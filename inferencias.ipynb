{
 "cells": [
  {
   "cell_type": "code",
   "execution_count": null,
   "id": "436ff412",
   "metadata": {},
   "outputs": [],
   "source": [
    "# realizando inferencias\n",
    "import tensorflow as tf\n",
    "import tensorflow_datasets as tfds\n",
    "import matplotlib.pyplot as plt"
   ]
  },
  {
   "cell_type": "code",
   "execution_count": null,
   "id": "df5f0ccf",
   "metadata": {},
   "outputs": [],
   "source": [
    "# --- Cargar modelo guardado ---\n",
    "model = tf.keras.models.load_model('modelo_perros_gatos.keras')\n",
    "\n",
    "# --- Cargar y mezclar dataset ---\n",
    "ds, info = tfds.load('cats_vs_dogs', split='train', as_supervised=True, with_info=True)\n",
    "ds = ds.shuffle(buffer_size=1000)\n",
    "\n",
    "# --- Tomar una imagen aleatoria\n",
    "sample_image, label = next(iter(ds))\n",
    "\n",
    "# --- Preprocesar imagen como en entrenamiento ---\n",
    "IMG_SIZE = 150\n",
    "image_resized = tf.image.resize(sample_image, (IMG_SIZE, IMG_SIZE))\n",
    "image_normalized = tf.cast(image_resized, tf.float32) / 255.0\n",
    "image_input = tf.expand_dims(image_normalized, axis=0)\n",
    "\n",
    "# --- Realizar inferencia ---\n",
    "prediction = model.predict(image_input)[0][0]\n",
    "predicted_label = 'Perro' if prediction > 0.5 else 'Gato'\n",
    "true_label = 'Perro' if label == 1 else 'Gato'\n",
    "\n",
    "# --- Mostrar imagen e impresión de los resultados\n",
    "plt.imshow(sample_image)\n",
    "plt.axis('off')\n",
    "plt.title(f'Real: {true_label} - Predicción: {predicted_label} ({prediction:.2f})')\n",
    "plt.show()"
   ]
  }
 ],
 "metadata": {
  "kernelspec": {
   "display_name": "tf",
   "language": "python",
   "name": "python3"
  },
  "language_info": {
   "codemirror_mode": {
    "name": "ipython",
    "version": 3
   },
   "file_extension": ".py",
   "mimetype": "text/x-python",
   "name": "python",
   "nbconvert_exporter": "python",
   "pygments_lexer": "ipython3",
   "version": "3.12.10"
  }
 },
 "nbformat": 4,
 "nbformat_minor": 5
}
